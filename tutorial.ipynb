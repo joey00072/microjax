{
 "cells": [
  {
   "cell_type": "markdown",
   "metadata": {},
   "source": [
    "# MicroJax"
   ]
  },
  {
   "cell_type": "markdown",
   "metadata": {},
   "source": [
    "This is micro dev blog on how do build micro Jax / mlx like transformation engine,\n",
    "bcs I dont find anything easy on internet. just like karpathy senpais micrograd is simple version of pytorch, microjax is simple scalar valued version on jax,\n",
    "\n",
    "waraning: this is made for understanding so absulte correctness is not respcted\n",
    "\n",
    "way back google was tensorflow pilled, google has custom chip TPU and XLA really smart linear algebra compiler to make it go burr, but tensorflow was awefull and dynamic nature of torch wasnt that great, Jax was exprimentail project from google that was heavly used for physics simlution, hpc. and ai ofc, but story jax gose back, back to autograd, somewhere in 2019 all autograd dev moved on working on jax\n",
    "\n",
    "autograd had more noval goal, you need to calculate gradients (dertivative) , hassions (double derivate) for machine learning and physics sims, python is language of scientific computing lets makes python diffrentiable, but how can one make high level, Interpreted language like python diffrentiable,\n",
    "\n",
    "by writing interpretor ofcouse,"
   ]
  },
  {
   "cell_type": "markdown",
   "metadata": {},
   "source": [
    "## Base Interpretor\n",
    "first we will start primitive, this are fundameation ops in jax land all all other oprator will be base on it, btw this is scalr only so its more easy"
   ]
  },
  {
   "cell_type": "code",
   "execution_count": 1,
   "metadata": {},
   "outputs": [],
   "source": [
    "from __future__ import annotations\n",
    "\n",
    "import math\n",
    "from contextlib import contextmanager\n",
    "from typing import Any, Callable"
   ]
  },
  {
   "cell_type": "code",
   "execution_count": 2,
   "metadata": {},
   "outputs": [
    {
     "name": "stdout",
     "output_type": "stream",
     "text": [
      "add\n"
     ]
    }
   ],
   "source": [
    "class OPS:\n",
    "    ADD = \"add\"\n",
    "    MUL = \"mul\"\n",
    "    NEG = \"neg\"\n",
    "    RECIP = \"recip\"\n",
    "    EXP = \"exp\"\n",
    "    SIN = \"sin\"\n",
    "# ik i can make this enum, i choose not too\\\n",
    "print(OPS.ADD)"
   ]
  },
  {
   "cell_type": "markdown",
   "metadata": {},
   "source": [
    "We will use only this for now, but later you can add more ops"
   ]
  },
  {
   "cell_type": "markdown",
   "metadata": {},
   "source": [
    "Lets start with base interpretor, this is like abstract class, in jax this called Trace, Trace keep track and guider values (Tracers)"
   ]
  },
  {
   "cell_type": "code",
   "execution_count": 3,
   "metadata": {},
   "outputs": [],
   "source": [
    "class Interpreter:\n",
    "    def __init__(self, level: int = 0, *args, **kwargs):\n",
    "        self.level = level\n",
    "\n",
    "    def process_primitive(self, prim, boxes, params):\n",
    "        \"in this function, either you process primitives or you unbox and send to lower level interpreter\"\n",
    "        raise NotImplementedError"
   ]
  },
  {
   "cell_type": "markdown",
   "metadata": {},
   "source": [
    "Now we will have multiplal interpreters for diffren AD so lets add most powerful data structer in exitace Stack,\n",
    "this stack will keep track which interpretor are we using\n",
    "ie what is context"
   ]
  },
  {
   "cell_type": "code",
   "execution_count": 4,
   "metadata": {},
   "outputs": [],
   "source": [
    "STACK: list[Interpreter] = []\n",
    "\n",
    "\n",
    "def push_interpreter(interpreter: Interpreter):\n",
    "    STACK.append(interpreter)\n",
    "    return STACK\n",
    "\n",
    "\n",
    "def pop_interpreter() -> Interpreter:\n",
    "    return STACK.pop()\n",
    "\n",
    "\n",
    "@contextmanager\n",
    "def interpreter_context(interpreter_type: Interpreter):\n",
    "    stack_item = interpreter_type(level=len(STACK))\n",
    "    push_interpreter(stack_item)\n",
    "    try:\n",
    "        yield stack_item\n",
    "    finally:\n",
    "        pop_interpreter()"
   ]
  },
  {
   "cell_type": "markdown",
   "metadata": {},
   "source": [
    "Next up Box (called tracer in jax), \n",
    "When you pass values to function (like sin) this are boxed, <br>\n",
    "this boxed values can keep track of primals for jvp, nodes for vjp or other things like shape,\n"
   ]
  },
  {
   "cell_type": "code",
   "execution_count": 5,
   "metadata": {},
   "outputs": [],
   "source": [
    "class Box:\n",
    "    _interpreter: Interpreter\n",
    "\n",
    "    def aval(self):\n",
    "        raise NotImplementedError\n",
    "\n",
    "    def full_lower(self):\n",
    "        return self\n",
    "\n",
    "    def __add__(self, other):\n",
    "        return add(self, other)\n",
    "\n",
    "    def __radd__(self, other):\n",
    "        return add(other, self)\n",
    "\n",
    "    def __mul__(self, other):\n",
    "        return mul(self, other)\n",
    "\n",
    "    def __rmul__(self, other):\n",
    "        return mul(other, self)\n",
    "\n",
    "    def __neg__(self):\n",
    "        return neg(self)\n",
    "\n",
    "    def __sub__(self, other):\n",
    "        return add(self, neg(other))\n",
    "\n",
    "    def __rsub__(self, other):\n",
    "        return add(other, neg(self))\n",
    "\n",
    "    def __truediv__(self, other):\n",
    "        return mul(self, recip(other))\n",
    "\n",
    "    def __rtruediv__(self, other):\n",
    "        return mul(other, recip(self))\n",
    "\n",
    "    def __iadd__(self, other):\n",
    "        return add(self, other)\n",
    "\n",
    "    def __imul__(self, other):\n",
    "        return mul(self, other)\n",
    "\n",
    "    def __isub__(self, other):\n",
    "        return add(self, neg(other))\n",
    "\n",
    "    def __itruediv__(self, other):\n",
    "        return mul(self, recip(other))\n",
    "\n",
    "# dont worry about this undefined functions, we add them later"
   ]
  },
  {
   "cell_type": "markdown",
   "metadata": {},
   "source": [
    "we are almost done with abstract classes \n",
    "just few helper"
   ]
  },
  {
   "cell_type": "code",
   "execution_count": 6,
   "metadata": {},
   "outputs": [],
   "source": [
    "def find_top_interpreter(args):\n",
    "    interpreters = []\n",
    "    for item in args:\n",
    "        if isinstance(item, Box):\n",
    "            interpreters.append(item._interpreter)\n",
    "\n",
    "    if interpreters:\n",
    "        return max(interpreters, key=lambda x: x.level)\n",
    "\n",
    "    # if no interpreters are found, return the default EvalInterpreter\n",
    "    return STACK[0]\n",
    "\n",
    "\n",
    "def full_raise(interpreter: Interpreter | Any, out) -> Box | JVPBox:\n",
    "    \"\"\"\n",
    "    if interpreter need values boxed\n",
    "    if out is not boxed, box it (using interpreter.pure)\n",
    "    ie. raise out to the box level\n",
    "    \"\"\"\n",
    "    if not isinstance(out, Box):\n",
    "        return interpreter.pure(out)\n",
    "    return out\n",
    "\n",
    "\n",
    "def full_lower(val):\n",
    "    if isinstance(val, Box):\n",
    "        return val.full_lower()\n",
    "    return val\n",
    "\n",
    "\n",
    "def bind(prim, *args, **params):\n",
    "    interpreter = find_top_interpreter(args)\n",
    "    # this will raise the boxes to the top level\n",
    "    # eg converts primitive values to Boxes if interpreter is not the top level\n",
    "    boxes = [full_raise(interpreter, arg) for arg in args]\n",
    "    outs = interpreter.process_primitive(prim, boxes, params)\n",
    "    return [out for out in outs]\n",
    "\n",
    "\n",
    "def bind_single(prim, *args, **params):\n",
    "    (out,) = bind(prim, *args, **params)\n",
    "    return out"
   ]
  },
  {
   "cell_type": "markdown",
   "metadata": {},
   "source": [
    "each boxed value will have interpretor assigned to it each inter pretor will have levels to them `find_top_interpreter` will find hight level interpretor amoung them all. \n",
    "`full_raise` will raise up value to till current interpretor level in stack.  `bind_single` is just small wrapper to handle tuple around bind. `bind` is function to primitive ops"
   ]
  },
  {
   "cell_type": "markdown",
   "metadata": {},
   "source": [
    "### Primitives\n",
    "This are building blocks, all other functions will build on top of this, "
   ]
  },
  {
   "cell_type": "code",
   "execution_count": 7,
   "metadata": {},
   "outputs": [],
   "source": [
    "def add(*args):\n",
    "    return bind_single(OPS.ADD, *args)\n",
    "\n",
    "def mul(*args):\n",
    "    return bind_single(OPS.MUL, *args)\n",
    "\n",
    "def neg(x):\n",
    "    return bind_single(OPS.NEG, x)\n",
    "\n",
    "def recip(x):\n",
    "    return bind_single(OPS.RECIP, x)\n",
    "\n",
    "def exp(x):\n",
    "    return bind_single(OPS.EXP, x)\n",
    "\n",
    "def sin(x):\n",
    "    return bind_single(OPS.SIN, x)\n",
    "\n",
    "# composite functions build on top of primitives\n",
    "def cos(x):\n",
    "    return sin(x + math.pi / 2)\n",
    "\n",
    "def sigmoid(x):\n",
    "    return 1 / (1 + exp(-x))\n",
    "\n",
    "def tanh(x): \n",
    "    return 2 * sigmoid(2 * x) - 1\n",
    "\n",
    "def silu(x):\n",
    "    return x * sigmoid(x)"
   ]
  },
  {
   "cell_type": "markdown",
   "metadata": {},
   "source": [
    "primitive are like mock function,  when you call `mul(Box1(3),Box1(2))` this will find interpertors for `box1`,`box2`, than will find will `interpretor`\n",
    " have highest level amoung them unbox this values and tell that interpretor to process those primitive,\n",
    "for evey op type there is primitive op function."
   ]
  },
  {
   "cell_type": "markdown",
   "metadata": {},
   "source": [
    "### Eval Interpretor\n",
    "\n",
    "Even it all this mocking at the end someone has to run `add` or `mul` function this will be dose by eval interprer we will fist define evaultion reule and then eval interpretor"
   ]
  },
  {
   "cell_type": "code",
   "execution_count": 8,
   "metadata": {},
   "outputs": [],
   "source": [
    "class EvalRules:\n",
    "    def __init__(self):\n",
    "        self.rules = {\n",
    "            OPS.ADD: self.add,\n",
    "            OPS.MUL: self.mul,\n",
    "            OPS.NEG: self.neg,\n",
    "            OPS.RECIP: self.recip,\n",
    "            OPS.EXP: self.exp,\n",
    "            OPS.SIN: self.sin,\n",
    "        }\n",
    "\n",
    "    def __getitem__(self, op):\n",
    "        return self.rules[op]\n",
    "\n",
    "    def add(self, primals, *args):\n",
    "        x, y = primals\n",
    "        return [x + y]\n",
    "\n",
    "    def mul(self, primals, *args):\n",
    "        x, y = primals\n",
    "        return [x * y]\n",
    "\n",
    "    def neg(self, primals, *args):\n",
    "        (x,) = primals\n",
    "        return [-x]\n",
    "\n",
    "    def recip(self, primals, *args):\n",
    "        (x,) = primals\n",
    "        return [1 / x]\n",
    "\n",
    "    def exp(self, primals, *args):\n",
    "        (x,) = primals\n",
    "        return [math.exp(x)]\n",
    "\n",
    "    def sin(self, primals, *args):\n",
    "        (x,) = primals\n",
    "        return [math.sin(x)]\n",
    "\n",
    "\n",
    "class EvalInterpreter(Interpreter):\n",
    "    def __init__(self, *args, **kwargs):\n",
    "        super().__init__(*args, **kwargs)\n",
    "        self.rules = EvalRules()\n",
    "\n",
    "    def pure(self, val):\n",
    "        return val\n",
    "\n",
    "    def process_primitive(self, prim, boxes, params):\n",
    "        return self.rules[prim](boxes, *params)"
   ]
  },
  {
   "cell_type": "markdown",
   "metadata": {},
   "source": [
    "Basic interpreter is `EvalInterpreter`, Now we run run basic program, since evalution are end of primitive we will push eval interpreter at bottom of stack,"
   ]
  },
  {
   "cell_type": "code",
   "execution_count": 9,
   "metadata": {},
   "outputs": [
    {
     "data": {
      "text/plain": [
       "[<__main__.EvalInterpreter at 0x7f4987c589d0>]"
      ]
     },
     "execution_count": 9,
     "metadata": {},
     "output_type": "execute_result"
    }
   ],
   "source": [
    "push_interpreter(EvalInterpreter())"
   ]
  },
  {
   "cell_type": "markdown",
   "metadata": {},
   "source": [
    "Now we can kick off basic program,"
   ]
  },
  {
   "cell_type": "code",
   "execution_count": 10,
   "metadata": {},
   "outputs": [
    {
     "data": {
      "text/plain": [
       "1.033056645880499"
      ]
     },
     "execution_count": 10,
     "metadata": {},
     "output_type": "execute_result"
    }
   ],
   "source": [
    "def func(x):\n",
    "    return sin(x)*exp(x) + tanh(x)\n",
    "\n",
    "x = 3.14\n",
    "\n",
    "func(x)"
   ]
  },
  {
   "cell_type": "markdown",
   "metadata": {},
   "source": [
    "## Forwardmode Autodiff (JVP)"
   ]
  },
  {
   "cell_type": "code",
   "execution_count": null,
   "metadata": {},
   "outputs": [],
   "source": []
  },
  {
   "cell_type": "markdown",
   "metadata": {},
   "source": [
    "TODO: explaintion of JVP"
   ]
  },
  {
   "cell_type": "markdown",
   "metadata": {},
   "source": [
    "# Autograd: Jacobian-Vector Product (JVP) Calculation\n",
    "\n",
    "This README explains the process of calculating the Jacobian-Vector Product (JVP) for a given function using autograd principles.\n",
    "\n",
    "## Function Definition\n",
    "\n",
    "Given:\n",
    "- $x = [x_1, x_2]$\n",
    "- $f(x) = \\sin(x) \\cdot x$\n",
    "\n",
    "## Jacobian of Primitives\n",
    "\n",
    "### 1. Sine function\n",
    "\n",
    "The Jacobian of $\\sin(x)$ is:\n",
    "\n",
    "$$\n",
    "J_{\\sin}(x) = \\begin{bmatrix}\n",
    "\\cos(x_1) & 0 \\\\\n",
    "0 & \\cos(x_2)\n",
    "\\end{bmatrix}\n",
    "$$\n",
    "\n",
    "### 2. Element-wise multiplication\n",
    "\n",
    "The Jacobian of element-wise multiplication $a \\cdot b$ is:\n",
    "\n",
    "$$\n",
    "J_{\\text{mul}}(a, b) = \\begin{bmatrix}\n",
    "b & a \\\\\n",
    "a & b\n",
    "\\end{bmatrix}\n",
    "$$\n",
    "\n",
    "## Chain Rule\n",
    "\n",
    "For composed functions, we multiply the Jacobians of each operation in reverse order.\n",
    "\n",
    "## JVP Definition\n",
    "\n",
    "The Jacobian-Vector Product (JVP) is defined as the product of the Jacobian of a function and a vector:\n",
    "\n",
    "$$\n",
    "\\text{JVP}(f, x, v) = J_f(x) \\cdot v\n",
    "$$\n",
    "\n",
    "where $J_f(x)$ is the Jacobian of $f$ at $x$.\n",
    "\n",
    "## Applying the Chain Rule\n",
    "\n",
    "For our function $f(x) = \\sin(x) \\cdot x$, the Jacobian can be expressed as:\n",
    "\n",
    "$$\n",
    "J_f(x) = J_{\\text{mul}}(\\sin(x), x) \\cdot J_{\\sin}(x)\n",
    "$$\n",
    "\n",
    "## Calculating the JVP\n",
    "\n",
    "Using the chain rule and the property $(AB)v = A(Bv)$ for matrices $A$, $B$, and vector $v$:\n",
    "\n",
    "$$\n",
    "\\begin{aligned}\n",
    "\\text{JVP}(f, x, v) &= J_f(x) \\cdot v \\\\\n",
    "&= (J_{\\text{mul}}(\\sin(x), x) \\cdot J_{\\sin}(x)) \\cdot v \\\\\n",
    "&= J_{\\text{mul}}(\\sin(x), x) \\cdot (J_{\\sin}(x) \\cdot v)\n",
    "\\end{aligned}\n",
    "$$\n",
    "\n",
    "### Step-by-step calculation:\n",
    "\n",
    "1. Calculate $J_{\\sin}(x) \\cdot v$:\n",
    "\n",
    "$$\n",
    "\\begin{bmatrix}\n",
    "\\cos(x_1) & 0 \\\\\n",
    "0 & \\cos(x_2)\n",
    "\\end{bmatrix} \\cdot\n",
    "\\begin{bmatrix}\n",
    "v_1 \\\\\n",
    "v_2\n",
    "\\end{bmatrix} =\n",
    "\\begin{bmatrix}\n",
    "\\cos(x_1) \\cdot v_1 \\\\\n",
    "\\cos(x_2) \\cdot v_2\n",
    "\\end{bmatrix}\n",
    "$$\n",
    "\n",
    "2. Apply $J_{\\text{mul}}(\\sin(x), x)$:\n",
    "\n",
    "$$\n",
    "\\begin{bmatrix}\n",
    "x_1 & \\sin(x_1) \\\\\n",
    "\\sin(x_2) & x_2\n",
    "\\end{bmatrix} \\cdot\n",
    "\\begin{bmatrix}\n",
    "\\cos(x_1) \\cdot v_1 \\\\\n",
    "\\cos(x_2) \\cdot v_2\n",
    "\\end{bmatrix} =\n",
    "\\begin{bmatrix}\n",
    "x_1 \\cos(x_1) v_1 + \\sin(x_1) \\cos(x_2) v_2 \\\\\n",
    "\\sin(x_2) \\cos(x_1) v_1 + x_2 \\cos(x_2) v_2\n",
    "\\end{bmatrix}\n",
    "$$\n",
    "\n",
    "Therefore, the final JVP is:\n",
    "\n",
    "$$\n",
    "\\text{JVP}(f, x, v) = \\begin{bmatrix}\n",
    "x_1 \\cos(x_1) v_1 + \\sin(x_1) \\cos(x_2) v_2 \\\\\n",
    "\\sin(x_2) \\cos(x_1) v_1 + x_2 \\cos(x_2) v_2\n",
    "\\end{bmatrix}\n",
    "$$\n",
    "\n",
    "This JVP calculation demonstrates how autograd works by applying the chain rule to primitive operations and combining them to compute the derivative of more complex functions."
   ]
  },
  {
   "cell_type": "markdown",
   "metadata": {},
   "source": [
    "\n",
    "$$\n",
    "\\text{JVP} = \n",
    "\\begin{bmatrix} w_1 \\\\ w_2 \\end{bmatrix}\n",
    "\\cdot\n",
    "\\begin{bmatrix} \\exp(x_1) & 0 \\\\ 0 & \\exp(x_2) \\end{bmatrix}\n",
    "\\cdot\n",
    "\\begin{bmatrix} \\cos(a_1) & 0 \\\\ 0 & \\cos(a_2) \\end{bmatrix}\n",
    "\\cdot\n",
    "\\begin{bmatrix} v_1 \\\\ v_2 \\end{bmatrix}\n",
    "$$"
   ]
  },
  {
   "cell_type": "markdown",
   "metadata": {},
   "source": []
  },
  {
   "cell_type": "code",
   "execution_count": 42,
   "metadata": {},
   "outputs": [],
   "source": [
    "class JVPBox(Box):\n",
    "    def __init__(self, interpretor: Interpreter, primal, tangent) -> None:\n",
    "        super().__init__()\n",
    "        self._interpreter = interpretor\n",
    "        self.primal = primal\n",
    "        self.tangent = tangent\n",
    "    \n",
    "    def __repr__(self):\n",
    "        return f\"JVPBox (primal={self.primal}, tangent={self.tangent})\"\n"
   ]
  },
  {
   "cell_type": "code",
   "execution_count": 43,
   "metadata": {},
   "outputs": [],
   "source": [
    "class JVPRules:\n",
    "    def __init__(self):\n",
    "        self.rules = {\n",
    "            OPS.ADD: self.add,\n",
    "            OPS.MUL: self.mul,\n",
    "            OPS.NEG: self.neg,\n",
    "            OPS.RECIP: self.recip,\n",
    "            OPS.EXP: self.exp,\n",
    "            OPS.SIN: self.sin,\n",
    "        }\n",
    "\n",
    "    # dont forget to return tuple(primals),tuple(tangents)\n",
    "    def __getitem__(self, op):\n",
    "        return self.rules[op]\n",
    "\n",
    "    @staticmethod\n",
    "    def add(primals, tangents):\n",
    "        (x, y), (x_dot, y_dot) = primals, tangents\n",
    "        return (x + y,), (x_dot + y_dot,)\n",
    "\n",
    "    @staticmethod\n",
    "    def mul(primals, tangents):\n",
    "        (x, y), (x_dot, y_dot) = primals, tangents\n",
    "        return (x * y,), (x_dot * y + x * y_dot,)\n",
    "\n",
    "    @staticmethod\n",
    "    def neg(primals, tangents):\n",
    "        (x,), (x_dot,) = primals, tangents\n",
    "        return (-x,), (-x_dot,)\n",
    "\n",
    "    @staticmethod\n",
    "    def recip(primals, tangents):\n",
    "        (x,), (x_dot,) = primals, tangents\n",
    "        y = 1 / x\n",
    "        return (y,), (-y * y * x_dot,)\n",
    "\n",
    "    @staticmethod\n",
    "    def exp(primals, tangents):\n",
    "        (x,), (x_dot,) = primals, tangents\n",
    "        y = exp(x)\n",
    "        return (y,), (y * x_dot,)\n",
    "\n",
    "    @staticmethod\n",
    "    def sin(primals, tangents):\n",
    "        (x,), (x_dot,) = primals, tangents\n",
    "        return (sin(x),), (cos(x) * x_dot,)\n"
   ]
  },
  {
   "cell_type": "code",
   "execution_count": 44,
   "metadata": {},
   "outputs": [],
   "source": [
    "class JVPInterpreter(Interpreter):\n",
    "    def __init__(self, *args, **kwargs):\n",
    "        super().__init__(*args, **kwargs)\n",
    "        self.rules = JVPRules()\n",
    "\n",
    "    def pure(self, val):\n",
    "        return JVPBox(self, val, 0.0)\n",
    "\n",
    "    def process_primitive(self, prim, boxes, params):\n",
    "        primals = [box.primal for box in boxes]\n",
    "        tangents = [box.tangent for box in boxes]\n",
    "        op = self.rules[prim]\n",
    "        primals_out, tangents_out = op(primals, tangents, **params)\n",
    "\n",
    "        result = []\n",
    "        for p, t in zip(primals_out, tangents_out):\n",
    "            result.append(JVPBox(self, p, t))\n",
    "        return result\n"
   ]
  },
  {
   "cell_type": "code",
   "execution_count": 45,
   "metadata": {},
   "outputs": [],
   "source": [
    "def jvp_simple(func, primals, tangents):\n",
    "    with interpreter_context(JVPInterpreter) as iptr:\n",
    "        box_in = [JVPBox(iptr, x, t) for x, t in zip(primals, tangents)]\n",
    "        out = func(*box_in)\n",
    "        box_out = full_raise(iptr, out)\n",
    "        primal_out, tangent_out = box_out.primal, box_out.tangent\n",
    "    return primal_out, tangent_out"
   ]
  },
  {
   "cell_type": "code",
   "execution_count": 46,
   "metadata": {},
   "outputs": [],
   "source": [
    "\n",
    "def deriv(function):\n",
    "    def jvp_forward(input_value):\n",
    "        _, gradient = jvp_simple(function, (input_value,), (1,))\n",
    "        return gradient\n",
    "\n",
    "    return jvp_forward\n",
    "\n"
   ]
  },
  {
   "cell_type": "code",
   "execution_count": 47,
   "metadata": {},
   "outputs": [
    {
     "name": "stdout",
     "output_type": "stream",
     "text": [
      "0.9978528578623186\n",
      "-0.9925331276862505\n",
      "-0.01646802134092456\n"
     ]
    }
   ],
   "source": [
    "def func(x):\n",
    "    return sin(x) + tanh(x)\n",
    "\n",
    "x = 3.14\n",
    "\n",
    "print(func(x))\n",
    "\n",
    "print(deriv(func)(x))\n",
    "print(deriv(deriv(func))(x))"
   ]
  },
  {
   "cell_type": "code",
   "execution_count": 48,
   "metadata": {},
   "outputs": [
    {
     "data": {
      "image/png": "[encoded data removed]",
      "text/plain": [
       "<Figure size 1000x500 with 1 Axes>"
      ]
     },
     "metadata": {},
     "output_type": "display_data"
    }
   ],
   "source": [
    "import matplotlib.pyplot as plt\n",
    "import random\n",
    "plt.figure(figsize=(10,5))\n",
    "plt.style.use(\"dark_background\")\n",
    "\n",
    "def forward(func, vec):\n",
    "    return [func(x) for x in vec]\n",
    "\n",
    "\n",
    "x = [i / 10 for i in range(-50, 50)]\n",
    "\n",
    "def func(x):\n",
    "    return x*sin(x)\n",
    "\n",
    "primals = forward(func, x)\n",
    "\n",
    "# first derivative\n",
    "f_prime = forward(deriv(func), x)\n",
    "f_prime2 = forward(deriv(deriv(func)), x)\n",
    "f_prime3 = forward(deriv(deriv(deriv(func))), x)\n",
    "f_prime4 = forward(deriv(deriv(deriv(deriv(func)))), x)\n",
    "\n",
    "plt.plot(x, primals, label='f(x) = x*sin(x)')\n",
    "plt.plot(x, f_prime, label=\"f'(x)\")\n",
    "plt.plot(x, f_prime2, label=\"f''(x)\")\n",
    "plt.plot(x, f_prime3, label=\"f'''(x)\")\n",
    "plt.plot(x, f_prime4, label=\"f''''(x)\")\n",
    "\n",
    "plt.grid(True, linestyle=\"--\", alpha=0.15)\n",
    "plt.box(False)\n",
    "plt.legend(loc='upper right')\n",
    "plt.show()\n"
   ]
  },
  {
   "cell_type": "code",
   "execution_count": 50,
   "metadata": {},
   "outputs": [
    {
     "name": "stdout",
     "output_type": "stream",
     "text": [
      "Input x: tensor([0.4963, 0.7682], requires_grad=True)\n",
      "Vector v: tensor([0.0885, 0.1320])\n",
      "Manual JVP: tensor([0.0807, 0.1647], grad_fn=<AddBackward0>)\n",
      "Autograd JVP: tensor([0.0807, 0.1647])\n",
      "Manual and autograd results match!\n"
     ]
    }
   ],
   "source": [
    "import torch\n",
    "import torch.autograd.functional as F\n",
    "\n",
    "def f(x):\n",
    "    return torch.sin(x) * x\n",
    "\n",
    "def manual_jvp(x, v):\n",
    "    sin_x = torch.sin(x)\n",
    "    cos_x = torch.cos(x)\n",
    "    return x * cos_x * v + sin_x * v\n",
    "\n",
    "def test_jvp():\n",
    "    # Set random seed for reproducibility\n",
    "    torch.manual_seed(0)\n",
    "\n",
    "    # Create input tensor\n",
    "    x = torch.rand(2, requires_grad=True)\n",
    "    \n",
    "    # Create random vector\n",
    "    v = torch.rand(2)\n",
    "\n",
    "    # Calculate manual JVP\n",
    "    manual_result = manual_jvp(x, v)\n",
    "\n",
    "    # Calculate JVP using PyTorch's autograd\n",
    "    autograd_result = F.jvp(f, x, v)[1]\n",
    "\n",
    "    # Print results\n",
    "    print(f\"Input x: {x}\")\n",
    "    print(f\"Vector v: {v}\")\n",
    "    print(f\"Manual JVP: {manual_result}\")\n",
    "    print(f\"Autograd JVP: {autograd_result}\")\n",
    "\n",
    "    # Check if results are close\n",
    "    assert torch.allclose(manual_result, autograd_result, atol=1e-6), \"Manual and autograd results don't match!\"\n",
    "    print(\"Manual and autograd results match!\")\n",
    "\n",
    "if __name__ == \"__main__\":\n",
    "    test_jvp()"
   ]
  },
  {
   "cell_type": "code",
   "execution_count": null,
   "metadata": {},
   "outputs": [],
   "source": []
  }
 ],
 "metadata": {
  "kernelspec": {
   "display_name": "Python 3 (ipykernel)",
   "language": "python",
   "name": "python3"
  },
  "language_info": {
   "codemirror_mode": {
    "name": "ipython",
    "version": 3
   },
   "file_extension": ".py",
   "mimetype": "text/x-python",
   "name": "python",
   "nbconvert_exporter": "python",
   "pygments_lexer": "ipython3",
   "version": "3.10.12"
  }
 },
 "nbformat": 4,
 "nbformat_minor": 2
}
